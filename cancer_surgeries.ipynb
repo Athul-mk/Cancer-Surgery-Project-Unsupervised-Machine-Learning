{
 "cells": [
  {
   "cell_type": "code",
   "execution_count": 1,
   "metadata": {},
   "outputs": [
    {
     "name": "stderr",
     "output_type": "stream",
     "text": [
      "c:\\Users\\ATHUL AKSHAY\\anaconda3\\Lib\\site-packages\\pandas\\core\\arrays\\masked.py:60: UserWarning: Pandas requires version '1.3.6' or newer of 'bottleneck' (version '1.3.5' currently installed).\n",
      "  from pandas.core import (\n"
     ]
    }
   ],
   "source": [
    "import pandas as pd\n",
    "import numpy as np\n",
    "import matplotlib.pyplot as plt\n",
    "import warnings\n",
    "warnings.filterwarnings('ignore')"
   ]
  },
  {
   "cell_type": "code",
   "execution_count": 2,
   "metadata": {},
   "outputs": [
    {
     "data": {
      "text/html": [
       "<div>\n",
       "<style scoped>\n",
       "    .dataframe tbody tr th:only-of-type {\n",
       "        vertical-align: middle;\n",
       "    }\n",
       "\n",
       "    .dataframe tbody tr th {\n",
       "        vertical-align: top;\n",
       "    }\n",
       "\n",
       "    .dataframe thead th {\n",
       "        text-align: right;\n",
       "    }\n",
       "</style>\n",
       "<table border=\"1\" class=\"dataframe\">\n",
       "  <thead>\n",
       "    <tr style=\"text-align: right;\">\n",
       "      <th></th>\n",
       "      <th>year</th>\n",
       "      <th>county</th>\n",
       "      <th>Hospital</th>\n",
       "      <th>OSHPDID</th>\n",
       "      <th>Surgery</th>\n",
       "      <th># of Cases (ICD 9)</th>\n",
       "      <th># of Cases (ICD 10)</th>\n",
       "      <th>LATITUDE</th>\n",
       "      <th>LONGITUDE</th>\n",
       "    </tr>\n",
       "  </thead>\n",
       "  <tbody>\n",
       "    <tr>\n",
       "      <th>0</th>\n",
       "      <td>2013</td>\n",
       "      <td>NaN</td>\n",
       "      <td>Statewide</td>\n",
       "      <td>NaN</td>\n",
       "      <td>COLON</td>\n",
       "      <td>7128.0</td>\n",
       "      <td>NaN</td>\n",
       "      <td>NaN</td>\n",
       "      <td>NaN</td>\n",
       "    </tr>\n",
       "    <tr>\n",
       "      <th>1</th>\n",
       "      <td>2013</td>\n",
       "      <td>NaN</td>\n",
       "      <td>Statewide</td>\n",
       "      <td>NaN</td>\n",
       "      <td>BLADDER</td>\n",
       "      <td>892.0</td>\n",
       "      <td>NaN</td>\n",
       "      <td>NaN</td>\n",
       "      <td>NaN</td>\n",
       "    </tr>\n",
       "    <tr>\n",
       "      <th>2</th>\n",
       "      <td>2013</td>\n",
       "      <td>NaN</td>\n",
       "      <td>Statewide</td>\n",
       "      <td>NaN</td>\n",
       "      <td>RECTUM</td>\n",
       "      <td>2128.0</td>\n",
       "      <td>NaN</td>\n",
       "      <td>NaN</td>\n",
       "      <td>NaN</td>\n",
       "    </tr>\n",
       "    <tr>\n",
       "      <th>3</th>\n",
       "      <td>2013</td>\n",
       "      <td>NaN</td>\n",
       "      <td>Statewide</td>\n",
       "      <td>NaN</td>\n",
       "      <td>BREAST</td>\n",
       "      <td>25829.0</td>\n",
       "      <td>NaN</td>\n",
       "      <td>NaN</td>\n",
       "      <td>NaN</td>\n",
       "    </tr>\n",
       "    <tr>\n",
       "      <th>4</th>\n",
       "      <td>2013</td>\n",
       "      <td>NaN</td>\n",
       "      <td>Statewide</td>\n",
       "      <td>NaN</td>\n",
       "      <td>BRAIN</td>\n",
       "      <td>2719.0</td>\n",
       "      <td>NaN</td>\n",
       "      <td>NaN</td>\n",
       "      <td>NaN</td>\n",
       "    </tr>\n",
       "  </tbody>\n",
       "</table>\n",
       "</div>"
      ],
      "text/plain": [
       "   year county   Hospital  OSHPDID  Surgery  # of Cases (ICD 9)  \\\n",
       "0  2013    NaN  Statewide      NaN    COLON              7128.0   \n",
       "1  2013    NaN  Statewide      NaN  BLADDER               892.0   \n",
       "2  2013    NaN  Statewide      NaN   RECTUM              2128.0   \n",
       "3  2013    NaN  Statewide      NaN   BREAST             25829.0   \n",
       "4  2013    NaN  Statewide      NaN    BRAIN              2719.0   \n",
       "\n",
       "   # of Cases (ICD 10)  LATITUDE  LONGITUDE  \n",
       "0                  NaN       NaN        NaN  \n",
       "1                  NaN       NaN        NaN  \n",
       "2                  NaN       NaN        NaN  \n",
       "3                  NaN       NaN        NaN  \n",
       "4                  NaN       NaN        NaN  "
      ]
     },
     "execution_count": 2,
     "metadata": {},
     "output_type": "execute_result"
    }
   ],
   "source": [
    "data=pd.read_csv(r'C:\\Users\\ATHUL AKSHAY\\Desktop\\Machine Learning Projects\\Unsupervised Learning\\number-of-cancer-surgeries-volume-performed-in-california-hospitals-.csv',encoding='cp1252')\n",
    "data.head(5)"
   ]
  },
  {
   "cell_type": "code",
   "execution_count": 3,
   "metadata": {},
   "outputs": [
    {
     "data": {
      "text/plain": [
       "(11821, 9)"
      ]
     },
     "execution_count": 3,
     "metadata": {},
     "output_type": "execute_result"
    }
   ],
   "source": [
    "data.shape"
   ]
  },
  {
   "cell_type": "code",
   "execution_count": 4,
   "metadata": {},
   "outputs": [
    {
     "data": {
      "text/plain": [
       "year                      0\n",
       "county                   66\n",
       "Hospital                  0\n",
       "OSHPDID                  66\n",
       "Surgery                   0\n",
       "# of Cases (ICD 9)     6092\n",
       "# of Cases (ICD 10)    5729\n",
       "LATITUDE                 73\n",
       "LONGITUDE                73\n",
       "dtype: int64"
      ]
     },
     "execution_count": 4,
     "metadata": {},
     "output_type": "execute_result"
    }
   ],
   "source": [
    "data.isna().sum()"
   ]
  },
  {
   "cell_type": "code",
   "execution_count": 5,
   "metadata": {},
   "outputs": [
    {
     "data": {
      "text/html": [
       "<div>\n",
       "<style scoped>\n",
       "    .dataframe tbody tr th:only-of-type {\n",
       "        vertical-align: middle;\n",
       "    }\n",
       "\n",
       "    .dataframe tbody tr th {\n",
       "        vertical-align: top;\n",
       "    }\n",
       "\n",
       "    .dataframe thead th {\n",
       "        text-align: right;\n",
       "    }\n",
       "</style>\n",
       "<table border=\"1\" class=\"dataframe\">\n",
       "  <thead>\n",
       "    <tr style=\"text-align: right;\">\n",
       "      <th></th>\n",
       "      <th>year</th>\n",
       "      <th>county</th>\n",
       "      <th>Hospital</th>\n",
       "      <th>OSHPDID</th>\n",
       "      <th>Surgery</th>\n",
       "      <th># of Cases (ICD 9)</th>\n",
       "      <th># of Cases (ICD 10)</th>\n",
       "      <th>LATITUDE</th>\n",
       "      <th>LONGITUDE</th>\n",
       "    </tr>\n",
       "  </thead>\n",
       "  <tbody>\n",
       "    <tr>\n",
       "      <th>0</th>\n",
       "      <td>2013</td>\n",
       "      <td>Alameda</td>\n",
       "      <td>Statewide</td>\n",
       "      <td>106010735.0</td>\n",
       "      <td>COLON</td>\n",
       "      <td>7128.0</td>\n",
       "      <td>1054.0</td>\n",
       "      <td>37.762953</td>\n",
       "      <td>-122.253620</td>\n",
       "    </tr>\n",
       "    <tr>\n",
       "      <th>1</th>\n",
       "      <td>2013</td>\n",
       "      <td>Alameda</td>\n",
       "      <td>Statewide</td>\n",
       "      <td>106010735.0</td>\n",
       "      <td>BLADDER</td>\n",
       "      <td>892.0</td>\n",
       "      <td>1054.0</td>\n",
       "      <td>37.762953</td>\n",
       "      <td>-122.253620</td>\n",
       "    </tr>\n",
       "    <tr>\n",
       "      <th>2</th>\n",
       "      <td>2013</td>\n",
       "      <td>Alameda</td>\n",
       "      <td>Statewide</td>\n",
       "      <td>106010735.0</td>\n",
       "      <td>RECTUM</td>\n",
       "      <td>2128.0</td>\n",
       "      <td>1054.0</td>\n",
       "      <td>37.762953</td>\n",
       "      <td>-122.253620</td>\n",
       "    </tr>\n",
       "    <tr>\n",
       "      <th>3</th>\n",
       "      <td>2013</td>\n",
       "      <td>Alameda</td>\n",
       "      <td>Statewide</td>\n",
       "      <td>106010735.0</td>\n",
       "      <td>BREAST</td>\n",
       "      <td>25829.0</td>\n",
       "      <td>1054.0</td>\n",
       "      <td>37.762953</td>\n",
       "      <td>-122.253620</td>\n",
       "    </tr>\n",
       "    <tr>\n",
       "      <th>4</th>\n",
       "      <td>2013</td>\n",
       "      <td>Alameda</td>\n",
       "      <td>Statewide</td>\n",
       "      <td>106010735.0</td>\n",
       "      <td>BRAIN</td>\n",
       "      <td>2719.0</td>\n",
       "      <td>1054.0</td>\n",
       "      <td>37.762953</td>\n",
       "      <td>-122.253620</td>\n",
       "    </tr>\n",
       "    <tr>\n",
       "      <th>...</th>\n",
       "      <td>...</td>\n",
       "      <td>...</td>\n",
       "      <td>...</td>\n",
       "      <td>...</td>\n",
       "      <td>...</td>\n",
       "      <td>...</td>\n",
       "      <td>...</td>\n",
       "      <td>...</td>\n",
       "      <td>...</td>\n",
       "    </tr>\n",
       "    <tr>\n",
       "      <th>11816</th>\n",
       "      <td>2018</td>\n",
       "      <td>Yuba</td>\n",
       "      <td>Rideout Memorial Hospital</td>\n",
       "      <td>106580996.0</td>\n",
       "      <td>Rectum</td>\n",
       "      <td>NaN</td>\n",
       "      <td>4.0</td>\n",
       "      <td>39.138805</td>\n",
       "      <td>-121.593602</td>\n",
       "    </tr>\n",
       "    <tr>\n",
       "      <th>11817</th>\n",
       "      <td>2018</td>\n",
       "      <td>Yuba</td>\n",
       "      <td>Rideout Memorial Hospital</td>\n",
       "      <td>106580996.0</td>\n",
       "      <td>Prostate</td>\n",
       "      <td>NaN</td>\n",
       "      <td>6.0</td>\n",
       "      <td>39.138805</td>\n",
       "      <td>-121.593602</td>\n",
       "    </tr>\n",
       "    <tr>\n",
       "      <th>11818</th>\n",
       "      <td>2018</td>\n",
       "      <td>Yuba</td>\n",
       "      <td>Rideout Memorial Hospital</td>\n",
       "      <td>106580996.0</td>\n",
       "      <td>Lung</td>\n",
       "      <td>NaN</td>\n",
       "      <td>16.0</td>\n",
       "      <td>39.138805</td>\n",
       "      <td>-121.593602</td>\n",
       "    </tr>\n",
       "    <tr>\n",
       "      <th>11819</th>\n",
       "      <td>2018</td>\n",
       "      <td>Yuba</td>\n",
       "      <td>Rideout Memorial Hospital</td>\n",
       "      <td>106580996.0</td>\n",
       "      <td>Colon</td>\n",
       "      <td>NaN</td>\n",
       "      <td>19.0</td>\n",
       "      <td>39.138805</td>\n",
       "      <td>-121.593602</td>\n",
       "    </tr>\n",
       "    <tr>\n",
       "      <th>11820</th>\n",
       "      <td>2018</td>\n",
       "      <td>Yuba</td>\n",
       "      <td>Rideout Memorial Hospital</td>\n",
       "      <td>106580996.0</td>\n",
       "      <td>Breast</td>\n",
       "      <td>NaN</td>\n",
       "      <td>15.0</td>\n",
       "      <td>39.138805</td>\n",
       "      <td>-121.593602</td>\n",
       "    </tr>\n",
       "  </tbody>\n",
       "</table>\n",
       "<p>11821 rows × 9 columns</p>\n",
       "</div>"
      ],
      "text/plain": [
       "       year   county                   Hospital      OSHPDID   Surgery  \\\n",
       "0      2013  Alameda                  Statewide  106010735.0     COLON   \n",
       "1      2013  Alameda                  Statewide  106010735.0   BLADDER   \n",
       "2      2013  Alameda                  Statewide  106010735.0    RECTUM   \n",
       "3      2013  Alameda                  Statewide  106010735.0    BREAST   \n",
       "4      2013  Alameda                  Statewide  106010735.0     BRAIN   \n",
       "...     ...      ...                        ...          ...       ...   \n",
       "11816  2018     Yuba  Rideout Memorial Hospital  106580996.0    Rectum   \n",
       "11817  2018     Yuba  Rideout Memorial Hospital  106580996.0  Prostate   \n",
       "11818  2018     Yuba  Rideout Memorial Hospital  106580996.0      Lung   \n",
       "11819  2018     Yuba  Rideout Memorial Hospital  106580996.0     Colon   \n",
       "11820  2018     Yuba  Rideout Memorial Hospital  106580996.0    Breast   \n",
       "\n",
       "       # of Cases (ICD 9)  # of Cases (ICD 10)   LATITUDE   LONGITUDE  \n",
       "0                  7128.0               1054.0  37.762953 -122.253620  \n",
       "1                   892.0               1054.0  37.762953 -122.253620  \n",
       "2                  2128.0               1054.0  37.762953 -122.253620  \n",
       "3                 25829.0               1054.0  37.762953 -122.253620  \n",
       "4                  2719.0               1054.0  37.762953 -122.253620  \n",
       "...                   ...                  ...        ...         ...  \n",
       "11816                 NaN                  4.0  39.138805 -121.593602  \n",
       "11817                 NaN                  6.0  39.138805 -121.593602  \n",
       "11818                 NaN                 16.0  39.138805 -121.593602  \n",
       "11819                 NaN                 19.0  39.138805 -121.593602  \n",
       "11820                 NaN                 15.0  39.138805 -121.593602  \n",
       "\n",
       "[11821 rows x 9 columns]"
      ]
     },
     "execution_count": 5,
     "metadata": {},
     "output_type": "execute_result"
    }
   ],
   "source": [
    "data=data.fillna(method='bfill')\n",
    "data"
   ]
  },
  {
   "cell_type": "code",
   "execution_count": 6,
   "metadata": {},
   "outputs": [
    {
     "data": {
      "text/plain": [
       "49.44876941874673"
      ]
     },
     "execution_count": 6,
     "metadata": {},
     "output_type": "execute_result"
    }
   ],
   "source": [
    "a=data['# of Cases (ICD 9)'].mean()\n",
    "a"
   ]
  },
  {
   "cell_type": "code",
   "execution_count": 7,
   "metadata": {},
   "outputs": [
    {
     "data": {
      "text/html": [
       "<div>\n",
       "<style scoped>\n",
       "    .dataframe tbody tr th:only-of-type {\n",
       "        vertical-align: middle;\n",
       "    }\n",
       "\n",
       "    .dataframe tbody tr th {\n",
       "        vertical-align: top;\n",
       "    }\n",
       "\n",
       "    .dataframe thead th {\n",
       "        text-align: right;\n",
       "    }\n",
       "</style>\n",
       "<table border=\"1\" class=\"dataframe\">\n",
       "  <thead>\n",
       "    <tr style=\"text-align: right;\">\n",
       "      <th></th>\n",
       "      <th>year</th>\n",
       "      <th>county</th>\n",
       "      <th>Hospital</th>\n",
       "      <th>OSHPDID</th>\n",
       "      <th>Surgery</th>\n",
       "      <th># of Cases (ICD 9)</th>\n",
       "      <th># of Cases (ICD 10)</th>\n",
       "      <th>LATITUDE</th>\n",
       "      <th>LONGITUDE</th>\n",
       "    </tr>\n",
       "  </thead>\n",
       "  <tbody>\n",
       "    <tr>\n",
       "      <th>0</th>\n",
       "      <td>2013</td>\n",
       "      <td>Alameda</td>\n",
       "      <td>Statewide</td>\n",
       "      <td>106010735.0</td>\n",
       "      <td>COLON</td>\n",
       "      <td>7128.000000</td>\n",
       "      <td>1054.0</td>\n",
       "      <td>37.762953</td>\n",
       "      <td>-122.253620</td>\n",
       "    </tr>\n",
       "    <tr>\n",
       "      <th>1</th>\n",
       "      <td>2013</td>\n",
       "      <td>Alameda</td>\n",
       "      <td>Statewide</td>\n",
       "      <td>106010735.0</td>\n",
       "      <td>BLADDER</td>\n",
       "      <td>892.000000</td>\n",
       "      <td>1054.0</td>\n",
       "      <td>37.762953</td>\n",
       "      <td>-122.253620</td>\n",
       "    </tr>\n",
       "    <tr>\n",
       "      <th>2</th>\n",
       "      <td>2013</td>\n",
       "      <td>Alameda</td>\n",
       "      <td>Statewide</td>\n",
       "      <td>106010735.0</td>\n",
       "      <td>RECTUM</td>\n",
       "      <td>2128.000000</td>\n",
       "      <td>1054.0</td>\n",
       "      <td>37.762953</td>\n",
       "      <td>-122.253620</td>\n",
       "    </tr>\n",
       "    <tr>\n",
       "      <th>3</th>\n",
       "      <td>2013</td>\n",
       "      <td>Alameda</td>\n",
       "      <td>Statewide</td>\n",
       "      <td>106010735.0</td>\n",
       "      <td>BREAST</td>\n",
       "      <td>25829.000000</td>\n",
       "      <td>1054.0</td>\n",
       "      <td>37.762953</td>\n",
       "      <td>-122.253620</td>\n",
       "    </tr>\n",
       "    <tr>\n",
       "      <th>4</th>\n",
       "      <td>2013</td>\n",
       "      <td>Alameda</td>\n",
       "      <td>Statewide</td>\n",
       "      <td>106010735.0</td>\n",
       "      <td>BRAIN</td>\n",
       "      <td>2719.000000</td>\n",
       "      <td>1054.0</td>\n",
       "      <td>37.762953</td>\n",
       "      <td>-122.253620</td>\n",
       "    </tr>\n",
       "    <tr>\n",
       "      <th>...</th>\n",
       "      <td>...</td>\n",
       "      <td>...</td>\n",
       "      <td>...</td>\n",
       "      <td>...</td>\n",
       "      <td>...</td>\n",
       "      <td>...</td>\n",
       "      <td>...</td>\n",
       "      <td>...</td>\n",
       "      <td>...</td>\n",
       "    </tr>\n",
       "    <tr>\n",
       "      <th>11816</th>\n",
       "      <td>2018</td>\n",
       "      <td>Yuba</td>\n",
       "      <td>Rideout Memorial Hospital</td>\n",
       "      <td>106580996.0</td>\n",
       "      <td>Rectum</td>\n",
       "      <td>49.448769</td>\n",
       "      <td>4.0</td>\n",
       "      <td>39.138805</td>\n",
       "      <td>-121.593602</td>\n",
       "    </tr>\n",
       "    <tr>\n",
       "      <th>11817</th>\n",
       "      <td>2018</td>\n",
       "      <td>Yuba</td>\n",
       "      <td>Rideout Memorial Hospital</td>\n",
       "      <td>106580996.0</td>\n",
       "      <td>Prostate</td>\n",
       "      <td>49.448769</td>\n",
       "      <td>6.0</td>\n",
       "      <td>39.138805</td>\n",
       "      <td>-121.593602</td>\n",
       "    </tr>\n",
       "    <tr>\n",
       "      <th>11818</th>\n",
       "      <td>2018</td>\n",
       "      <td>Yuba</td>\n",
       "      <td>Rideout Memorial Hospital</td>\n",
       "      <td>106580996.0</td>\n",
       "      <td>Lung</td>\n",
       "      <td>49.448769</td>\n",
       "      <td>16.0</td>\n",
       "      <td>39.138805</td>\n",
       "      <td>-121.593602</td>\n",
       "    </tr>\n",
       "    <tr>\n",
       "      <th>11819</th>\n",
       "      <td>2018</td>\n",
       "      <td>Yuba</td>\n",
       "      <td>Rideout Memorial Hospital</td>\n",
       "      <td>106580996.0</td>\n",
       "      <td>Colon</td>\n",
       "      <td>49.448769</td>\n",
       "      <td>19.0</td>\n",
       "      <td>39.138805</td>\n",
       "      <td>-121.593602</td>\n",
       "    </tr>\n",
       "    <tr>\n",
       "      <th>11820</th>\n",
       "      <td>2018</td>\n",
       "      <td>Yuba</td>\n",
       "      <td>Rideout Memorial Hospital</td>\n",
       "      <td>106580996.0</td>\n",
       "      <td>Breast</td>\n",
       "      <td>49.448769</td>\n",
       "      <td>15.0</td>\n",
       "      <td>39.138805</td>\n",
       "      <td>-121.593602</td>\n",
       "    </tr>\n",
       "  </tbody>\n",
       "</table>\n",
       "<p>11821 rows × 9 columns</p>\n",
       "</div>"
      ],
      "text/plain": [
       "       year   county                   Hospital      OSHPDID   Surgery  \\\n",
       "0      2013  Alameda                  Statewide  106010735.0     COLON   \n",
       "1      2013  Alameda                  Statewide  106010735.0   BLADDER   \n",
       "2      2013  Alameda                  Statewide  106010735.0    RECTUM   \n",
       "3      2013  Alameda                  Statewide  106010735.0    BREAST   \n",
       "4      2013  Alameda                  Statewide  106010735.0     BRAIN   \n",
       "...     ...      ...                        ...          ...       ...   \n",
       "11816  2018     Yuba  Rideout Memorial Hospital  106580996.0    Rectum   \n",
       "11817  2018     Yuba  Rideout Memorial Hospital  106580996.0  Prostate   \n",
       "11818  2018     Yuba  Rideout Memorial Hospital  106580996.0      Lung   \n",
       "11819  2018     Yuba  Rideout Memorial Hospital  106580996.0     Colon   \n",
       "11820  2018     Yuba  Rideout Memorial Hospital  106580996.0    Breast   \n",
       "\n",
       "       # of Cases (ICD 9)  # of Cases (ICD 10)   LATITUDE   LONGITUDE  \n",
       "0             7128.000000               1054.0  37.762953 -122.253620  \n",
       "1              892.000000               1054.0  37.762953 -122.253620  \n",
       "2             2128.000000               1054.0  37.762953 -122.253620  \n",
       "3            25829.000000               1054.0  37.762953 -122.253620  \n",
       "4             2719.000000               1054.0  37.762953 -122.253620  \n",
       "...                   ...                  ...        ...         ...  \n",
       "11816           49.448769                  4.0  39.138805 -121.593602  \n",
       "11817           49.448769                  6.0  39.138805 -121.593602  \n",
       "11818           49.448769                 16.0  39.138805 -121.593602  \n",
       "11819           49.448769                 19.0  39.138805 -121.593602  \n",
       "11820           49.448769                 15.0  39.138805 -121.593602  \n",
       "\n",
       "[11821 rows x 9 columns]"
      ]
     },
     "execution_count": 7,
     "metadata": {},
     "output_type": "execute_result"
    }
   ],
   "source": [
    "data['# of Cases (ICD 9)']=data['# of Cases (ICD 9)'].fillna(a)\n",
    "data"
   ]
  },
  {
   "cell_type": "code",
   "execution_count": 8,
   "metadata": {},
   "outputs": [
    {
     "data": {
      "text/plain": [
       "539.7424921749429"
      ]
     },
     "execution_count": 8,
     "metadata": {},
     "output_type": "execute_result"
    }
   ],
   "source": [
    "b=data['# of Cases (ICD 10)'].mean()\n",
    "b"
   ]
  },
  {
   "cell_type": "code",
   "execution_count": 9,
   "metadata": {},
   "outputs": [
    {
     "data": {
      "text/html": [
       "<div>\n",
       "<style scoped>\n",
       "    .dataframe tbody tr th:only-of-type {\n",
       "        vertical-align: middle;\n",
       "    }\n",
       "\n",
       "    .dataframe tbody tr th {\n",
       "        vertical-align: top;\n",
       "    }\n",
       "\n",
       "    .dataframe thead th {\n",
       "        text-align: right;\n",
       "    }\n",
       "</style>\n",
       "<table border=\"1\" class=\"dataframe\">\n",
       "  <thead>\n",
       "    <tr style=\"text-align: right;\">\n",
       "      <th></th>\n",
       "      <th>year</th>\n",
       "      <th>county</th>\n",
       "      <th>Hospital</th>\n",
       "      <th>OSHPDID</th>\n",
       "      <th>Surgery</th>\n",
       "      <th># of Cases (ICD 9)</th>\n",
       "      <th># of Cases (ICD 10)</th>\n",
       "      <th>LATITUDE</th>\n",
       "      <th>LONGITUDE</th>\n",
       "    </tr>\n",
       "  </thead>\n",
       "  <tbody>\n",
       "    <tr>\n",
       "      <th>0</th>\n",
       "      <td>2013</td>\n",
       "      <td>Alameda</td>\n",
       "      <td>Statewide</td>\n",
       "      <td>106010735.0</td>\n",
       "      <td>COLON</td>\n",
       "      <td>7128.000000</td>\n",
       "      <td>1054.0</td>\n",
       "      <td>37.762953</td>\n",
       "      <td>-122.253620</td>\n",
       "    </tr>\n",
       "    <tr>\n",
       "      <th>1</th>\n",
       "      <td>2013</td>\n",
       "      <td>Alameda</td>\n",
       "      <td>Statewide</td>\n",
       "      <td>106010735.0</td>\n",
       "      <td>BLADDER</td>\n",
       "      <td>892.000000</td>\n",
       "      <td>1054.0</td>\n",
       "      <td>37.762953</td>\n",
       "      <td>-122.253620</td>\n",
       "    </tr>\n",
       "    <tr>\n",
       "      <th>2</th>\n",
       "      <td>2013</td>\n",
       "      <td>Alameda</td>\n",
       "      <td>Statewide</td>\n",
       "      <td>106010735.0</td>\n",
       "      <td>RECTUM</td>\n",
       "      <td>2128.000000</td>\n",
       "      <td>1054.0</td>\n",
       "      <td>37.762953</td>\n",
       "      <td>-122.253620</td>\n",
       "    </tr>\n",
       "    <tr>\n",
       "      <th>3</th>\n",
       "      <td>2013</td>\n",
       "      <td>Alameda</td>\n",
       "      <td>Statewide</td>\n",
       "      <td>106010735.0</td>\n",
       "      <td>BREAST</td>\n",
       "      <td>25829.000000</td>\n",
       "      <td>1054.0</td>\n",
       "      <td>37.762953</td>\n",
       "      <td>-122.253620</td>\n",
       "    </tr>\n",
       "    <tr>\n",
       "      <th>4</th>\n",
       "      <td>2013</td>\n",
       "      <td>Alameda</td>\n",
       "      <td>Statewide</td>\n",
       "      <td>106010735.0</td>\n",
       "      <td>BRAIN</td>\n",
       "      <td>2719.000000</td>\n",
       "      <td>1054.0</td>\n",
       "      <td>37.762953</td>\n",
       "      <td>-122.253620</td>\n",
       "    </tr>\n",
       "    <tr>\n",
       "      <th>...</th>\n",
       "      <td>...</td>\n",
       "      <td>...</td>\n",
       "      <td>...</td>\n",
       "      <td>...</td>\n",
       "      <td>...</td>\n",
       "      <td>...</td>\n",
       "      <td>...</td>\n",
       "      <td>...</td>\n",
       "      <td>...</td>\n",
       "    </tr>\n",
       "    <tr>\n",
       "      <th>11816</th>\n",
       "      <td>2018</td>\n",
       "      <td>Yuba</td>\n",
       "      <td>Rideout Memorial Hospital</td>\n",
       "      <td>106580996.0</td>\n",
       "      <td>Rectum</td>\n",
       "      <td>49.448769</td>\n",
       "      <td>4.0</td>\n",
       "      <td>39.138805</td>\n",
       "      <td>-121.593602</td>\n",
       "    </tr>\n",
       "    <tr>\n",
       "      <th>11817</th>\n",
       "      <td>2018</td>\n",
       "      <td>Yuba</td>\n",
       "      <td>Rideout Memorial Hospital</td>\n",
       "      <td>106580996.0</td>\n",
       "      <td>Prostate</td>\n",
       "      <td>49.448769</td>\n",
       "      <td>6.0</td>\n",
       "      <td>39.138805</td>\n",
       "      <td>-121.593602</td>\n",
       "    </tr>\n",
       "    <tr>\n",
       "      <th>11818</th>\n",
       "      <td>2018</td>\n",
       "      <td>Yuba</td>\n",
       "      <td>Rideout Memorial Hospital</td>\n",
       "      <td>106580996.0</td>\n",
       "      <td>Lung</td>\n",
       "      <td>49.448769</td>\n",
       "      <td>16.0</td>\n",
       "      <td>39.138805</td>\n",
       "      <td>-121.593602</td>\n",
       "    </tr>\n",
       "    <tr>\n",
       "      <th>11819</th>\n",
       "      <td>2018</td>\n",
       "      <td>Yuba</td>\n",
       "      <td>Rideout Memorial Hospital</td>\n",
       "      <td>106580996.0</td>\n",
       "      <td>Colon</td>\n",
       "      <td>49.448769</td>\n",
       "      <td>19.0</td>\n",
       "      <td>39.138805</td>\n",
       "      <td>-121.593602</td>\n",
       "    </tr>\n",
       "    <tr>\n",
       "      <th>11820</th>\n",
       "      <td>2018</td>\n",
       "      <td>Yuba</td>\n",
       "      <td>Rideout Memorial Hospital</td>\n",
       "      <td>106580996.0</td>\n",
       "      <td>Breast</td>\n",
       "      <td>49.448769</td>\n",
       "      <td>15.0</td>\n",
       "      <td>39.138805</td>\n",
       "      <td>-121.593602</td>\n",
       "    </tr>\n",
       "  </tbody>\n",
       "</table>\n",
       "<p>11821 rows × 9 columns</p>\n",
       "</div>"
      ],
      "text/plain": [
       "       year   county                   Hospital      OSHPDID   Surgery  \\\n",
       "0      2013  Alameda                  Statewide  106010735.0     COLON   \n",
       "1      2013  Alameda                  Statewide  106010735.0   BLADDER   \n",
       "2      2013  Alameda                  Statewide  106010735.0    RECTUM   \n",
       "3      2013  Alameda                  Statewide  106010735.0    BREAST   \n",
       "4      2013  Alameda                  Statewide  106010735.0     BRAIN   \n",
       "...     ...      ...                        ...          ...       ...   \n",
       "11816  2018     Yuba  Rideout Memorial Hospital  106580996.0    Rectum   \n",
       "11817  2018     Yuba  Rideout Memorial Hospital  106580996.0  Prostate   \n",
       "11818  2018     Yuba  Rideout Memorial Hospital  106580996.0      Lung   \n",
       "11819  2018     Yuba  Rideout Memorial Hospital  106580996.0     Colon   \n",
       "11820  2018     Yuba  Rideout Memorial Hospital  106580996.0    Breast   \n",
       "\n",
       "       # of Cases (ICD 9)  # of Cases (ICD 10)   LATITUDE   LONGITUDE  \n",
       "0             7128.000000               1054.0  37.762953 -122.253620  \n",
       "1              892.000000               1054.0  37.762953 -122.253620  \n",
       "2             2128.000000               1054.0  37.762953 -122.253620  \n",
       "3            25829.000000               1054.0  37.762953 -122.253620  \n",
       "4             2719.000000               1054.0  37.762953 -122.253620  \n",
       "...                   ...                  ...        ...         ...  \n",
       "11816           49.448769                  4.0  39.138805 -121.593602  \n",
       "11817           49.448769                  6.0  39.138805 -121.593602  \n",
       "11818           49.448769                 16.0  39.138805 -121.593602  \n",
       "11819           49.448769                 19.0  39.138805 -121.593602  \n",
       "11820           49.448769                 15.0  39.138805 -121.593602  \n",
       "\n",
       "[11821 rows x 9 columns]"
      ]
     },
     "execution_count": 9,
     "metadata": {},
     "output_type": "execute_result"
    }
   ],
   "source": [
    "data['# of Cases (ICD 10)'].fillna(b)\n",
    "data"
   ]
  },
  {
   "cell_type": "code",
   "execution_count": 10,
   "metadata": {},
   "outputs": [
    {
     "data": {
      "text/plain": [
       "year                   0\n",
       "county                 0\n",
       "Hospital               0\n",
       "OSHPDID                0\n",
       "Surgery                0\n",
       "# of Cases (ICD 9)     0\n",
       "# of Cases (ICD 10)    0\n",
       "LATITUDE               0\n",
       "LONGITUDE              0\n",
       "dtype: int64"
      ]
     },
     "execution_count": 10,
     "metadata": {},
     "output_type": "execute_result"
    }
   ],
   "source": [
    "data.isna().sum()"
   ]
  },
  {
   "cell_type": "code",
   "execution_count": 11,
   "metadata": {},
   "outputs": [
    {
     "data": {
      "text/html": [
       "<div>\n",
       "<style scoped>\n",
       "    .dataframe tbody tr th:only-of-type {\n",
       "        vertical-align: middle;\n",
       "    }\n",
       "\n",
       "    .dataframe tbody tr th {\n",
       "        vertical-align: top;\n",
       "    }\n",
       "\n",
       "    .dataframe thead th {\n",
       "        text-align: right;\n",
       "    }\n",
       "</style>\n",
       "<table border=\"1\" class=\"dataframe\">\n",
       "  <thead>\n",
       "    <tr style=\"text-align: right;\">\n",
       "      <th></th>\n",
       "      <th>year</th>\n",
       "      <th>county</th>\n",
       "      <th>Hospital</th>\n",
       "      <th>OSHPDID</th>\n",
       "      <th>Surgery</th>\n",
       "      <th># of Cases (ICD 9)</th>\n",
       "      <th># of Cases (ICD 10)</th>\n",
       "      <th>LATITUDE</th>\n",
       "      <th>LONGITUDE</th>\n",
       "    </tr>\n",
       "  </thead>\n",
       "  <tbody>\n",
       "    <tr>\n",
       "      <th>0</th>\n",
       "      <td>2013</td>\n",
       "      <td>Alameda</td>\n",
       "      <td>Statewide</td>\n",
       "      <td>106010735.0</td>\n",
       "      <td>COLON</td>\n",
       "      <td>7128.0</td>\n",
       "      <td>1054.0</td>\n",
       "      <td>37.762953</td>\n",
       "      <td>-122.25362</td>\n",
       "    </tr>\n",
       "  </tbody>\n",
       "</table>\n",
       "</div>"
      ],
      "text/plain": [
       "   year   county   Hospital      OSHPDID Surgery  # of Cases (ICD 9)  \\\n",
       "0  2013  Alameda  Statewide  106010735.0   COLON              7128.0   \n",
       "\n",
       "   # of Cases (ICD 10)   LATITUDE  LONGITUDE  \n",
       "0               1054.0  37.762953 -122.25362  "
      ]
     },
     "execution_count": 11,
     "metadata": {},
     "output_type": "execute_result"
    }
   ],
   "source": [
    "data.head(1)"
   ]
  },
  {
   "cell_type": "code",
   "execution_count": 12,
   "metadata": {},
   "outputs": [
    {
     "name": "stdout",
     "output_type": "stream",
     "text": [
      "<class 'pandas.core.frame.DataFrame'>\n",
      "RangeIndex: 11821 entries, 0 to 11820\n",
      "Data columns (total 9 columns):\n",
      " #   Column               Non-Null Count  Dtype  \n",
      "---  ------               --------------  -----  \n",
      " 0   year                 11821 non-null  int64  \n",
      " 1   county               11821 non-null  object \n",
      " 2   Hospital             11821 non-null  object \n",
      " 3   OSHPDID              11821 non-null  float64\n",
      " 4   Surgery              11821 non-null  object \n",
      " 5   # of Cases (ICD 9)   11821 non-null  float64\n",
      " 6   # of Cases (ICD 10)  11821 non-null  float64\n",
      " 7   LATITUDE             11821 non-null  float64\n",
      " 8   LONGITUDE            11821 non-null  float64\n",
      "dtypes: float64(5), int64(1), object(3)\n",
      "memory usage: 831.3+ KB\n"
     ]
    }
   ],
   "source": [
    "data.info()"
   ]
  },
  {
   "cell_type": "code",
   "execution_count": 13,
   "metadata": {},
   "outputs": [
    {
     "data": {
      "text/html": [
       "<style>#sk-container-id-1 {color: black;}#sk-container-id-1 pre{padding: 0;}#sk-container-id-1 div.sk-toggleable {background-color: white;}#sk-container-id-1 label.sk-toggleable__label {cursor: pointer;display: block;width: 100%;margin-bottom: 0;padding: 0.3em;box-sizing: border-box;text-align: center;}#sk-container-id-1 label.sk-toggleable__label-arrow:before {content: \"▸\";float: left;margin-right: 0.25em;color: #696969;}#sk-container-id-1 label.sk-toggleable__label-arrow:hover:before {color: black;}#sk-container-id-1 div.sk-estimator:hover label.sk-toggleable__label-arrow:before {color: black;}#sk-container-id-1 div.sk-toggleable__content {max-height: 0;max-width: 0;overflow: hidden;text-align: left;background-color: #f0f8ff;}#sk-container-id-1 div.sk-toggleable__content pre {margin: 0.2em;color: black;border-radius: 0.25em;background-color: #f0f8ff;}#sk-container-id-1 input.sk-toggleable__control:checked~div.sk-toggleable__content {max-height: 200px;max-width: 100%;overflow: auto;}#sk-container-id-1 input.sk-toggleable__control:checked~label.sk-toggleable__label-arrow:before {content: \"▾\";}#sk-container-id-1 div.sk-estimator input.sk-toggleable__control:checked~label.sk-toggleable__label {background-color: #d4ebff;}#sk-container-id-1 div.sk-label input.sk-toggleable__control:checked~label.sk-toggleable__label {background-color: #d4ebff;}#sk-container-id-1 input.sk-hidden--visually {border: 0;clip: rect(1px 1px 1px 1px);clip: rect(1px, 1px, 1px, 1px);height: 1px;margin: -1px;overflow: hidden;padding: 0;position: absolute;width: 1px;}#sk-container-id-1 div.sk-estimator {font-family: monospace;background-color: #f0f8ff;border: 1px dotted black;border-radius: 0.25em;box-sizing: border-box;margin-bottom: 0.5em;}#sk-container-id-1 div.sk-estimator:hover {background-color: #d4ebff;}#sk-container-id-1 div.sk-parallel-item::after {content: \"\";width: 100%;border-bottom: 1px solid gray;flex-grow: 1;}#sk-container-id-1 div.sk-label:hover label.sk-toggleable__label {background-color: #d4ebff;}#sk-container-id-1 div.sk-serial::before {content: \"\";position: absolute;border-left: 1px solid gray;box-sizing: border-box;top: 0;bottom: 0;left: 50%;z-index: 0;}#sk-container-id-1 div.sk-serial {display: flex;flex-direction: column;align-items: center;background-color: white;padding-right: 0.2em;padding-left: 0.2em;position: relative;}#sk-container-id-1 div.sk-item {position: relative;z-index: 1;}#sk-container-id-1 div.sk-parallel {display: flex;align-items: stretch;justify-content: center;background-color: white;position: relative;}#sk-container-id-1 div.sk-item::before, #sk-container-id-1 div.sk-parallel-item::before {content: \"\";position: absolute;border-left: 1px solid gray;box-sizing: border-box;top: 0;bottom: 0;left: 50%;z-index: -1;}#sk-container-id-1 div.sk-parallel-item {display: flex;flex-direction: column;z-index: 1;position: relative;background-color: white;}#sk-container-id-1 div.sk-parallel-item:first-child::after {align-self: flex-end;width: 50%;}#sk-container-id-1 div.sk-parallel-item:last-child::after {align-self: flex-start;width: 50%;}#sk-container-id-1 div.sk-parallel-item:only-child::after {width: 0;}#sk-container-id-1 div.sk-dashed-wrapped {border: 1px dashed gray;margin: 0 0.4em 0.5em 0.4em;box-sizing: border-box;padding-bottom: 0.4em;background-color: white;}#sk-container-id-1 div.sk-label label {font-family: monospace;font-weight: bold;display: inline-block;line-height: 1.2em;}#sk-container-id-1 div.sk-label-container {text-align: center;}#sk-container-id-1 div.sk-container {/* jupyter's `normalize.less` sets `[hidden] { display: none; }` but bootstrap.min.css set `[hidden] { display: none !important; }` so we also need the `!important` here to be able to override the default hidden behavior on the sphinx rendered scikit-learn.org. See: https://github.com/scikit-learn/scikit-learn/issues/21755 */display: inline-block !important;position: relative;}#sk-container-id-1 div.sk-text-repr-fallback {display: none;}</style><div id=\"sk-container-id-1\" class=\"sk-top-container\"><div class=\"sk-text-repr-fallback\"><pre>LabelEncoder()</pre><b>In a Jupyter environment, please rerun this cell to show the HTML representation or trust the notebook. <br />On GitHub, the HTML representation is unable to render, please try loading this page with nbviewer.org.</b></div><div class=\"sk-container\" hidden><div class=\"sk-item\"><div class=\"sk-estimator sk-toggleable\"><input class=\"sk-toggleable__control sk-hidden--visually\" id=\"sk-estimator-id-1\" type=\"checkbox\" checked><label for=\"sk-estimator-id-1\" class=\"sk-toggleable__label sk-toggleable__label-arrow\">LabelEncoder</label><div class=\"sk-toggleable__content\"><pre>LabelEncoder()</pre></div></div></div></div></div>"
      ],
      "text/plain": [
       "LabelEncoder()"
      ]
     },
     "execution_count": 13,
     "metadata": {},
     "output_type": "execute_result"
    }
   ],
   "source": [
    "from sklearn.preprocessing import LabelEncoder\n",
    "le=LabelEncoder()\n",
    "le"
   ]
  },
  {
   "cell_type": "code",
   "execution_count": 14,
   "metadata": {},
   "outputs": [],
   "source": [
    "data['county']=le.fit_transform(data['county'])\n",
    "data['Hospital']=le.fit_transform(data['Hospital'])\n",
    "data['Surgery']=le.fit_transform(data['Surgery'])\n"
   ]
  },
  {
   "cell_type": "code",
   "execution_count": 15,
   "metadata": {},
   "outputs": [
    {
     "name": "stdout",
     "output_type": "stream",
     "text": [
      "<class 'pandas.core.frame.DataFrame'>\n",
      "RangeIndex: 11821 entries, 0 to 11820\n",
      "Data columns (total 9 columns):\n",
      " #   Column               Non-Null Count  Dtype  \n",
      "---  ------               --------------  -----  \n",
      " 0   year                 11821 non-null  int64  \n",
      " 1   county               11821 non-null  int32  \n",
      " 2   Hospital             11821 non-null  int32  \n",
      " 3   OSHPDID              11821 non-null  float64\n",
      " 4   Surgery              11821 non-null  int32  \n",
      " 5   # of Cases (ICD 9)   11821 non-null  float64\n",
      " 6   # of Cases (ICD 10)  11821 non-null  float64\n",
      " 7   LATITUDE             11821 non-null  float64\n",
      " 8   LONGITUDE            11821 non-null  float64\n",
      "dtypes: float64(5), int32(3), int64(1)\n",
      "memory usage: 692.8 KB\n"
     ]
    }
   ],
   "source": [
    "data.info()"
   ]
  },
  {
   "cell_type": "code",
   "execution_count": 16,
   "metadata": {},
   "outputs": [
    {
     "data": {
      "text/html": [
       "<div>\n",
       "<style scoped>\n",
       "    .dataframe tbody tr th:only-of-type {\n",
       "        vertical-align: middle;\n",
       "    }\n",
       "\n",
       "    .dataframe tbody tr th {\n",
       "        vertical-align: top;\n",
       "    }\n",
       "\n",
       "    .dataframe thead th {\n",
       "        text-align: right;\n",
       "    }\n",
       "</style>\n",
       "<table border=\"1\" class=\"dataframe\">\n",
       "  <thead>\n",
       "    <tr style=\"text-align: right;\">\n",
       "      <th></th>\n",
       "      <th>year</th>\n",
       "      <th>county</th>\n",
       "      <th>Hospital</th>\n",
       "      <th>OSHPDID</th>\n",
       "      <th>Surgery</th>\n",
       "      <th># of Cases (ICD 9)</th>\n",
       "      <th># of Cases (ICD 10)</th>\n",
       "      <th>LATITUDE</th>\n",
       "      <th>LONGITUDE</th>\n",
       "    </tr>\n",
       "  </thead>\n",
       "  <tbody>\n",
       "    <tr>\n",
       "      <th>count</th>\n",
       "      <td>11821.000000</td>\n",
       "      <td>11821.000000</td>\n",
       "      <td>11821.000000</td>\n",
       "      <td>1.182100e+04</td>\n",
       "      <td>11821.000000</td>\n",
       "      <td>11821.000000</td>\n",
       "      <td>11821.000000</td>\n",
       "      <td>11821.000000</td>\n",
       "      <td>11821.000000</td>\n",
       "    </tr>\n",
       "    <tr>\n",
       "      <th>mean</th>\n",
       "      <td>2015.523983</td>\n",
       "      <td>23.914305</td>\n",
       "      <td>173.313764</td>\n",
       "      <td>1.062808e+08</td>\n",
       "      <td>10.607309</td>\n",
       "      <td>49.448769</td>\n",
       "      <td>539.742492</td>\n",
       "      <td>35.641446</td>\n",
       "      <td>-119.566444</td>\n",
       "    </tr>\n",
       "    <tr>\n",
       "      <th>std</th>\n",
       "      <td>1.709742</td>\n",
       "      <td>12.302670</td>\n",
       "      <td>95.357053</td>\n",
       "      <td>1.359171e+05</td>\n",
       "      <td>6.507234</td>\n",
       "      <td>411.298932</td>\n",
       "      <td>698.187388</td>\n",
       "      <td>2.135062</td>\n",
       "      <td>2.024806</td>\n",
       "    </tr>\n",
       "    <tr>\n",
       "      <th>min</th>\n",
       "      <td>2013.000000</td>\n",
       "      <td>0.000000</td>\n",
       "      <td>0.000000</td>\n",
       "      <td>1.060107e+08</td>\n",
       "      <td>0.000000</td>\n",
       "      <td>1.000000</td>\n",
       "      <td>1.000000</td>\n",
       "      <td>32.619090</td>\n",
       "      <td>-124.195140</td>\n",
       "    </tr>\n",
       "    <tr>\n",
       "      <th>25%</th>\n",
       "      <td>2014.000000</td>\n",
       "      <td>16.000000</td>\n",
       "      <td>97.000000</td>\n",
       "      <td>1.061904e+08</td>\n",
       "      <td>5.000000</td>\n",
       "      <td>8.000000</td>\n",
       "      <td>7.000000</td>\n",
       "      <td>33.953790</td>\n",
       "      <td>-121.791730</td>\n",
       "    </tr>\n",
       "    <tr>\n",
       "      <th>50%</th>\n",
       "      <td>2016.000000</td>\n",
       "      <td>25.000000</td>\n",
       "      <td>170.000000</td>\n",
       "      <td>1.063012e+08</td>\n",
       "      <td>11.000000</td>\n",
       "      <td>49.448769</td>\n",
       "      <td>191.000000</td>\n",
       "      <td>34.274589</td>\n",
       "      <td>-118.486620</td>\n",
       "    </tr>\n",
       "    <tr>\n",
       "      <th>75%</th>\n",
       "      <td>2017.000000</td>\n",
       "      <td>32.000000</td>\n",
       "      <td>254.000000</td>\n",
       "      <td>1.063713e+08</td>\n",
       "      <td>17.000000</td>\n",
       "      <td>49.448769</td>\n",
       "      <td>1054.000000</td>\n",
       "      <td>37.756570</td>\n",
       "      <td>-117.955240</td>\n",
       "    </tr>\n",
       "    <tr>\n",
       "      <th>max</th>\n",
       "      <td>2018.000000</td>\n",
       "      <td>52.000000</td>\n",
       "      <td>342.000000</td>\n",
       "      <td>1.065810e+08</td>\n",
       "      <td>21.000000</td>\n",
       "      <td>25829.000000</td>\n",
       "      <td>29349.000000</td>\n",
       "      <td>41.772780</td>\n",
       "      <td>-114.595600</td>\n",
       "    </tr>\n",
       "  </tbody>\n",
       "</table>\n",
       "</div>"
      ],
      "text/plain": [
       "               year        county      Hospital       OSHPDID       Surgery  \\\n",
       "count  11821.000000  11821.000000  11821.000000  1.182100e+04  11821.000000   \n",
       "mean    2015.523983     23.914305    173.313764  1.062808e+08     10.607309   \n",
       "std        1.709742     12.302670     95.357053  1.359171e+05      6.507234   \n",
       "min     2013.000000      0.000000      0.000000  1.060107e+08      0.000000   \n",
       "25%     2014.000000     16.000000     97.000000  1.061904e+08      5.000000   \n",
       "50%     2016.000000     25.000000    170.000000  1.063012e+08     11.000000   \n",
       "75%     2017.000000     32.000000    254.000000  1.063713e+08     17.000000   \n",
       "max     2018.000000     52.000000    342.000000  1.065810e+08     21.000000   \n",
       "\n",
       "       # of Cases (ICD 9)  # of Cases (ICD 10)      LATITUDE     LONGITUDE  \n",
       "count        11821.000000         11821.000000  11821.000000  11821.000000  \n",
       "mean            49.448769           539.742492     35.641446   -119.566444  \n",
       "std            411.298932           698.187388      2.135062      2.024806  \n",
       "min              1.000000             1.000000     32.619090   -124.195140  \n",
       "25%              8.000000             7.000000     33.953790   -121.791730  \n",
       "50%             49.448769           191.000000     34.274589   -118.486620  \n",
       "75%             49.448769          1054.000000     37.756570   -117.955240  \n",
       "max          25829.000000         29349.000000     41.772780   -114.595600  "
      ]
     },
     "execution_count": 16,
     "metadata": {},
     "output_type": "execute_result"
    }
   ],
   "source": [
    "data.describe()"
   ]
  },
  {
   "cell_type": "code",
   "execution_count": 17,
   "metadata": {},
   "outputs": [
    {
     "data": {
      "text/plain": [
       "array([[2013.      ,    0.      ,  299.      , ..., 1054.      ,\n",
       "          37.762953, -122.25362 ],\n",
       "       [2013.      ,    0.      ,  299.      , ..., 1054.      ,\n",
       "          37.762953, -122.25362 ],\n",
       "       [2013.      ,    0.      ,  299.      , ..., 1054.      ,\n",
       "          37.762953, -122.25362 ],\n",
       "       ...,\n",
       "       [2018.      ,   52.      ,  229.      , ...,   16.      ,\n",
       "          39.138805, -121.593602],\n",
       "       [2018.      ,   52.      ,  229.      , ...,   19.      ,\n",
       "          39.138805, -121.593602],\n",
       "       [2018.      ,   52.      ,  229.      , ...,   15.      ,\n",
       "          39.138805, -121.593602]])"
      ]
     },
     "execution_count": 17,
     "metadata": {},
     "output_type": "execute_result"
    }
   ],
   "source": [
    "cancer=data.values\n",
    "cancer"
   ]
  },
  {
   "cell_type": "code",
   "execution_count": 18,
   "metadata": {},
   "outputs": [],
   "source": [
    "from sklearn.preprocessing import StandardScaler,normalize\n",
    "scaler=StandardScaler()"
   ]
  },
  {
   "cell_type": "code",
   "execution_count": 19,
   "metadata": {},
   "outputs": [
    {
     "name": "stdout",
     "output_type": "stream",
     "text": [
      "Scaled Data [[-1.4762981  -1.94391274  1.3181149  ...  0.73659202  0.99369343\n",
      "  -1.32718394]\n",
      " [-1.4762981  -1.94391274  1.3181149  ...  0.73659202  0.99369343\n",
      "  -1.32718394]\n",
      " [-1.4762981  -1.94391274  1.3181149  ...  0.73659202  0.99369343\n",
      "  -1.32718394]\n",
      " ...\n",
      " [ 1.4482427   2.28299088  0.58400076 ... -0.75017775  1.63812913\n",
      "  -1.00120408]\n",
      " [ 1.4482427   2.28299088  0.58400076 ... -0.74588073  1.63812913\n",
      "  -1.00120408]\n",
      " [ 1.4482427   2.28299088  0.58400076 ... -0.75161009  1.63812913\n",
      "  -1.00120408]]\n"
     ]
    }
   ],
   "source": [
    "scaled=scaler.fit_transform(cancer)\n",
    "print('Scaled Data',scaled)"
   ]
  },
  {
   "cell_type": "code",
   "execution_count": 20,
   "metadata": {},
   "outputs": [
    {
     "name": "stdout",
     "output_type": "stream",
     "text": [
      "Normalize Data [[-0.08362522 -0.11011335  0.0746649  ...  0.04172441  0.05628798\n",
      "  -0.07517862]\n",
      " [-0.31625962 -0.41643426  0.28237286 ...  0.15779626  0.21287375\n",
      "  -0.28431567]\n",
      " [-0.22842925 -0.30078378  0.20395338 ...  0.1139737   0.15375529\n",
      "  -0.20535665]\n",
      " ...\n",
      " [ 0.35215842  0.55513794  0.14200713 ... -0.18241515  0.3983317\n",
      "  -0.24345536]\n",
      " [ 0.35044593  0.55243839  0.14131657 ... -0.1804883   0.39639467\n",
      "  -0.24227148]\n",
      " [ 0.34597896  0.54539672  0.13951527 ... -0.17955642  0.39134201\n",
      "  -0.23918336]]\n"
     ]
    }
   ],
   "source": [
    "norm=normalize(scaled)\n",
    "print('Normalize Data',norm)"
   ]
  },
  {
   "cell_type": "code",
   "execution_count": 21,
   "metadata": {},
   "outputs": [
    {
     "name": "stdout",
     "output_type": "stream",
     "text": [
      "[[ 0.06298981  0.10268117  0.17237358]\n",
      " [ 0.08175148  0.48522933  0.55881123]\n",
      " [ 0.06402486  0.22985292  0.43313077]\n",
      " ...\n",
      " [ 0.85248225 -0.48427451 -0.28912748]\n",
      " [ 0.85457243 -0.42217179 -0.29829417]\n",
      " [ 0.84629265 -0.39804632 -0.29761403]]\n",
      "PCA Components [[-0.05017789  0.39918881  0.15706627  0.398172   -0.02652383  0.0013264\n",
      "   0.04071778  0.56502985 -0.57731947]\n",
      " [-0.75818294 -0.08367096 -0.03386856 -0.08428179 -0.26490561 -0.0197779\n",
      "   0.58251214  0.0040084  -0.00216727]\n",
      " [ 0.07543666 -0.53210689 -0.26587498 -0.53733147  0.04764996  0.00541416\n",
      "  -0.05402831  0.42298132 -0.40942016]]\n"
     ]
    }
   ],
   "source": [
    "from sklearn.decomposition import PCA # Principal Component analysis\n",
    "pca=PCA(3)\n",
    "c=pca.fit_transform(norm)\n",
    "print(c)\n",
    "print('PCA Components',pca.components_)"
   ]
  },
  {
   "cell_type": "code",
   "execution_count": 22,
   "metadata": {},
   "outputs": [],
   "source": [
    "from sklearn.cluster import KMeans"
   ]
  },
  {
   "cell_type": "code",
   "execution_count": 23,
   "metadata": {},
   "outputs": [
    {
     "data": {
      "text/plain": [
       "[8370.791440083703,\n",
       " 5443.51343901759,\n",
       " 3823.6117677205657,\n",
       " 2605.070806251138,\n",
       " 2019.2610972723155,\n",
       " 1611.9387995500606,\n",
       " 1262.4743724845387,\n",
       " 1060.2715069294065,\n",
       " 918.3958570676622,\n",
       " 853.2699401577972]"
      ]
     },
     "execution_count": 23,
     "metadata": {},
     "output_type": "execute_result"
    }
   ],
   "source": [
    "error=[]\n",
    "for i in range(1,11):\n",
    "    kmeans=KMeans(n_clusters=i).fit(c)\n",
    "    error.append(kmeans.inertia_)\n",
    "error"
   ]
  },
  {
   "cell_type": "code",
   "execution_count": 24,
   "metadata": {},
   "outputs": [
    {
     "data": {
      "image/png": "[encoded data removed]",
      "text/plain": [
       "<Figure size 640x480 with 1 Axes>"
      ]
     },
     "metadata": {},
     "output_type": "display_data"
    }
   ],
   "source": [
    "plt.title('Elbow Method')\n",
    "plt.plot(range(1,11),error)\n",
    "plt.xlabel('No. of clusters')\n",
    "plt.ylabel('Error')\n",
    "plt.show()"
   ]
  },
  {
   "cell_type": "code",
   "execution_count": 25,
   "metadata": {},
   "outputs": [
    {
     "name": "stdout",
     "output_type": "stream",
     "text": [
      "[3 3 3 ... 0 0 0]\n"
     ]
    }
   ],
   "source": [
    "kmeans=KMeans(n_clusters=4)\n",
    "kmeans=kmeans.fit_predict(c)\n",
    "print(kmeans)"
   ]
  },
  {
   "cell_type": "code",
   "execution_count": 26,
   "metadata": {},
   "outputs": [
    {
     "data": {
      "text/plain": [
       "<matplotlib.collections.PathCollection at 0x1c9ab248f90>"
      ]
     },
     "execution_count": 26,
     "metadata": {},
     "output_type": "execute_result"
    },
    {
     "data": {
      "image/png": "[encoded data removed]",
      "text/plain": [
       "<Figure size 640x480 with 1 Axes>"
      ]
     },
     "metadata": {},
     "output_type": "display_data"
    }
   ],
   "source": [
    "plt.scatter(c[:,0],c[:,1],c=kmeans,cmap='viridis')"
   ]
  },
  {
   "cell_type": "code",
   "execution_count": null,
   "metadata": {},
   "outputs": [],
   "source": []
  }
 ],
 "metadata": {
  "kernelspec": {
   "display_name": "base",
   "language": "python",
   "name": "python3"
  },
  "language_info": {
   "codemirror_mode": {
    "name": "ipython",
    "version": 3
   },
   "file_extension": ".py",
   "mimetype": "text/x-python",
   "name": "python",
   "nbconvert_exporter": "python",
   "pygments_lexer": "ipython3",
   "version": "3.11.4"
  }
 },
 "nbformat": 4,
 "nbformat_minor": 2
}
